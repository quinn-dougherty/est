{
 "cells": [
  {
   "cell_type": "code",
   "execution_count": 1,
   "id": "3059c757-0f13-4643-bc62-eb73b9d6d4e6",
   "metadata": {},
   "outputs": [],
   "source": [
    "import os\n",
    "from manifoldpy import api"
   ]
  },
  {
   "cell_type": "code",
   "execution_count": 2,
   "id": "da5a2bc0-b572-431b-9a84-7415f773122b",
   "metadata": {},
   "outputs": [
    {
     "data": {
      "text/plain": [
       "[MultipleChoiceMarket(id='srv1wcAw0LIgxdHvuX4D', creatorUsername='c0m', creatorName='c0m', createdTime=1698154636076, question='Who will win the FIDE Grand Swiss 2023?', url='https://manifold.markets/c0m/who-will-win-the-fide-grand-swiss-2', pool=NOTHING, volume=6, volume24Hours=0, outcomeType='MULTIPLE_CHOICE', mechanism='cpmm-multi-1', isResolved=False, lastUpdatedTime=1698154666645, closeTime=1699289940000, creatorId='gjUcLN8UBzLJwU71rI8Y3C3wjpB2', creatorAvatarUrl='https://lh3.googleusercontent.com/a/ACg8ocKYfm8gPYQhOZAJmZFpzO5c6-FvdWt9DuQkS0o2SAF_Nbs=s96-c', resolutionProbability=None, p=None, totalLiquidity=125, resolution=None, resolutionTime=None, min=None, max=None, isLogScale=None, textDescription=None, description=None, bets=None, comments=None, answers=NOTHING)]"
      ]
     },
     "execution_count": 2,
     "metadata": {},
     "output_type": "execute_result"
    }
   ],
   "source": [
    "api.get_markets(1)"
   ]
  },
  {
   "cell_type": "code",
   "execution_count": null,
   "id": "8829def6-9bb7-4de4-a9f4-cff45c6046eb",
   "metadata": {},
   "outputs": [],
   "source": []
  }
 ],
 "metadata": {
  "kernelspec": {
   "display_name": "Python 3 (ipykernel)",
   "language": "python",
   "name": "python3"
  },
  "language_info": {
   "codemirror_mode": {
    "name": "ipython",
    "version": 3
   },
   "file_extension": ".py",
   "mimetype": "text/x-python",
   "name": "python",
   "nbconvert_exporter": "python",
   "pygments_lexer": "ipython3",
   "version": "3.10.12"
  }
 },
 "nbformat": 4,
 "nbformat_minor": 5
}
